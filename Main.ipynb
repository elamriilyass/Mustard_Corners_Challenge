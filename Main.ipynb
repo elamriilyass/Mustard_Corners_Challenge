{
 "cells": [
  {
   "cell_type": "code",
   "execution_count": 16,
   "id": "initial_id",
   "metadata": {
    "collapsed": true,
    "ExecuteTime": {
     "end_time": "2023-12-10T00:36:56.173394200Z",
     "start_time": "2023-12-10T00:36:55.913065800Z"
    }
   },
   "outputs": [],
   "source": [
    "import pandas as pd\n",
    "import numpy as np\n",
    "import matplotlib.pyplot as plt\n",
    "from sklearn.model_selection import train_test_split\n",
    "from sklearn.metrics import mean_squared_error\n",
    "# from xgboost import XGBRegressor\n",
    "import seaborn as sns"
   ]
  },
  {
   "cell_type": "code",
   "execution_count": 5,
   "outputs": [],
   "source": [
    "X = pd.read_csv(\"Data/train (15).csv\")\n",
    "y = pd.read_csv(\"Data/test (15).csv\")"
   ],
   "metadata": {
    "collapsed": false,
    "ExecuteTime": {
     "end_time": "2023-12-09T21:32:26.316930600Z",
     "start_time": "2023-12-09T21:32:26.278717300Z"
    }
   },
   "id": "e1657efc206a6096"
  },
  {
   "cell_type": "code",
   "execution_count": 6,
   "outputs": [
    {
     "data": {
      "text/plain": "       MatchId  LeagueId        Date  HomeTeamId  AwayTeamId  Home_Goals  \\\n0         2826       793  02/04/2005         410         908         2.0   \n1         2827       793  02/04/2005         338         597         3.0   \n2         2828       793  02/04/2005        1364         246         2.0   \n3         2829       793  02/04/2005        1088        1397         1.0   \n4         2830       793  02/04/2005         830        1412         2.0   \n...        ...       ...         ...         ...         ...         ...   \n23825   307623       800  18/12/2010        1326        1399         1.0   \n23826   307624       800  18/12/2010         944        8291         2.0   \n23827   307625       800  18/12/2010        4704        4705         4.0   \n23828   307626       800  18/12/2010        2113         250         1.0   \n23829   307617       800  19/12/2010         907        1827         1.0   \n\n       Away_Goals  Home_Corners  Away_Corners  \n0             0.0            15             1  \n1             2.0             3             6  \n2             3.0            13             2  \n3             0.0             2             5  \n4             3.0             3             6  \n...           ...           ...           ...  \n23825         0.0             4             5  \n23826         1.0             3             4  \n23827         0.0             4             4  \n23828         1.0             5             5  \n23829         0.0             6             4  \n\n[23830 rows x 9 columns]",
      "text/html": "<div>\n<style scoped>\n    .dataframe tbody tr th:only-of-type {\n        vertical-align: middle;\n    }\n\n    .dataframe tbody tr th {\n        vertical-align: top;\n    }\n\n    .dataframe thead th {\n        text-align: right;\n    }\n</style>\n<table border=\"1\" class=\"dataframe\">\n  <thead>\n    <tr style=\"text-align: right;\">\n      <th></th>\n      <th>MatchId</th>\n      <th>LeagueId</th>\n      <th>Date</th>\n      <th>HomeTeamId</th>\n      <th>AwayTeamId</th>\n      <th>Home_Goals</th>\n      <th>Away_Goals</th>\n      <th>Home_Corners</th>\n      <th>Away_Corners</th>\n    </tr>\n  </thead>\n  <tbody>\n    <tr>\n      <th>0</th>\n      <td>2826</td>\n      <td>793</td>\n      <td>02/04/2005</td>\n      <td>410</td>\n      <td>908</td>\n      <td>2.0</td>\n      <td>0.0</td>\n      <td>15</td>\n      <td>1</td>\n    </tr>\n    <tr>\n      <th>1</th>\n      <td>2827</td>\n      <td>793</td>\n      <td>02/04/2005</td>\n      <td>338</td>\n      <td>597</td>\n      <td>3.0</td>\n      <td>2.0</td>\n      <td>3</td>\n      <td>6</td>\n    </tr>\n    <tr>\n      <th>2</th>\n      <td>2828</td>\n      <td>793</td>\n      <td>02/04/2005</td>\n      <td>1364</td>\n      <td>246</td>\n      <td>2.0</td>\n      <td>3.0</td>\n      <td>13</td>\n      <td>2</td>\n    </tr>\n    <tr>\n      <th>3</th>\n      <td>2829</td>\n      <td>793</td>\n      <td>02/04/2005</td>\n      <td>1088</td>\n      <td>1397</td>\n      <td>1.0</td>\n      <td>0.0</td>\n      <td>2</td>\n      <td>5</td>\n    </tr>\n    <tr>\n      <th>4</th>\n      <td>2830</td>\n      <td>793</td>\n      <td>02/04/2005</td>\n      <td>830</td>\n      <td>1412</td>\n      <td>2.0</td>\n      <td>3.0</td>\n      <td>3</td>\n      <td>6</td>\n    </tr>\n    <tr>\n      <th>...</th>\n      <td>...</td>\n      <td>...</td>\n      <td>...</td>\n      <td>...</td>\n      <td>...</td>\n      <td>...</td>\n      <td>...</td>\n      <td>...</td>\n      <td>...</td>\n    </tr>\n    <tr>\n      <th>23825</th>\n      <td>307623</td>\n      <td>800</td>\n      <td>18/12/2010</td>\n      <td>1326</td>\n      <td>1399</td>\n      <td>1.0</td>\n      <td>0.0</td>\n      <td>4</td>\n      <td>5</td>\n    </tr>\n    <tr>\n      <th>23826</th>\n      <td>307624</td>\n      <td>800</td>\n      <td>18/12/2010</td>\n      <td>944</td>\n      <td>8291</td>\n      <td>2.0</td>\n      <td>1.0</td>\n      <td>3</td>\n      <td>4</td>\n    </tr>\n    <tr>\n      <th>23827</th>\n      <td>307625</td>\n      <td>800</td>\n      <td>18/12/2010</td>\n      <td>4704</td>\n      <td>4705</td>\n      <td>4.0</td>\n      <td>0.0</td>\n      <td>4</td>\n      <td>4</td>\n    </tr>\n    <tr>\n      <th>23828</th>\n      <td>307626</td>\n      <td>800</td>\n      <td>18/12/2010</td>\n      <td>2113</td>\n      <td>250</td>\n      <td>1.0</td>\n      <td>1.0</td>\n      <td>5</td>\n      <td>5</td>\n    </tr>\n    <tr>\n      <th>23829</th>\n      <td>307617</td>\n      <td>800</td>\n      <td>19/12/2010</td>\n      <td>907</td>\n      <td>1827</td>\n      <td>1.0</td>\n      <td>0.0</td>\n      <td>6</td>\n      <td>4</td>\n    </tr>\n  </tbody>\n</table>\n<p>23830 rows × 9 columns</p>\n</div>"
     },
     "execution_count": 6,
     "metadata": {},
     "output_type": "execute_result"
    }
   ],
   "source": [],
   "metadata": {
    "collapsed": false,
    "ExecuteTime": {
     "end_time": "2023-12-09T21:32:41.372535200Z",
     "start_time": "2023-12-09T21:32:41.287005100Z"
    }
   },
   "id": "4887afc7c862f351"
  },
  {
   "cell_type": "code",
   "execution_count": 7,
   "outputs": [
    {
     "data": {
      "text/plain": "     MatchId  LeagueId        Date  HomeTeamId  AwayTeamId  Line   Over  \\\n0          1       741  01/04/2011         342         694   9.5  1.790   \n1          2       741  01/04/2011        1424         270  11.5  1.920   \n2          3       729  01/04/2011         691        1137  10.5  1.970   \n3          4       729  01/04/2011         787         808  11.0  2.075   \n4          5       741  01/04/2011         784        1117  12.0  2.020   \n..       ...       ...         ...         ...         ...   ...    ...   \n336      337       729  22/05/2011        1211        1118  10.5  1.950   \n337      338       795  22/05/2011        1116         876  10.0  1.920   \n338      339       801  22/05/2011        1223         771  10.0  2.020   \n339      340       801  22/05/2011         238         570  10.5  2.020   \n340      341       776  23/05/2011         412        1089  10.5  2.220   \n\n     Under  Unnamed: 8  P(Under)  P(At)  P(Over)  Bet (U/O)  Stake  \n0    1.800         NaN       NaN    NaN      NaN        NaN    NaN  \n1    2.000         NaN       NaN    NaN      NaN        NaN    NaN  \n2    1.870         NaN       NaN    NaN      NaN        NaN    NaN  \n3    1.770         NaN       NaN    NaN      NaN        NaN    NaN  \n4    1.860         NaN       NaN    NaN      NaN        NaN    NaN  \n..     ...         ...       ...    ...      ...        ...    ...  \n336  1.961         NaN       NaN    NaN      NaN        NaN    NaN  \n337  1.909         NaN       NaN    NaN      NaN        NaN    NaN  \n338  1.840         NaN       NaN    NaN      NaN        NaN    NaN  \n339  1.900         NaN       NaN    NaN      NaN        NaN    NaN  \n340  1.729         NaN       NaN    NaN      NaN        NaN    NaN  \n\n[341 rows x 14 columns]",
      "text/html": "<div>\n<style scoped>\n    .dataframe tbody tr th:only-of-type {\n        vertical-align: middle;\n    }\n\n    .dataframe tbody tr th {\n        vertical-align: top;\n    }\n\n    .dataframe thead th {\n        text-align: right;\n    }\n</style>\n<table border=\"1\" class=\"dataframe\">\n  <thead>\n    <tr style=\"text-align: right;\">\n      <th></th>\n      <th>MatchId</th>\n      <th>LeagueId</th>\n      <th>Date</th>\n      <th>HomeTeamId</th>\n      <th>AwayTeamId</th>\n      <th>Line</th>\n      <th>Over</th>\n      <th>Under</th>\n      <th>Unnamed: 8</th>\n      <th>P(Under)</th>\n      <th>P(At)</th>\n      <th>P(Over)</th>\n      <th>Bet (U/O)</th>\n      <th>Stake</th>\n    </tr>\n  </thead>\n  <tbody>\n    <tr>\n      <th>0</th>\n      <td>1</td>\n      <td>741</td>\n      <td>01/04/2011</td>\n      <td>342</td>\n      <td>694</td>\n      <td>9.5</td>\n      <td>1.790</td>\n      <td>1.800</td>\n      <td>NaN</td>\n      <td>NaN</td>\n      <td>NaN</td>\n      <td>NaN</td>\n      <td>NaN</td>\n      <td>NaN</td>\n    </tr>\n    <tr>\n      <th>1</th>\n      <td>2</td>\n      <td>741</td>\n      <td>01/04/2011</td>\n      <td>1424</td>\n      <td>270</td>\n      <td>11.5</td>\n      <td>1.920</td>\n      <td>2.000</td>\n      <td>NaN</td>\n      <td>NaN</td>\n      <td>NaN</td>\n      <td>NaN</td>\n      <td>NaN</td>\n      <td>NaN</td>\n    </tr>\n    <tr>\n      <th>2</th>\n      <td>3</td>\n      <td>729</td>\n      <td>01/04/2011</td>\n      <td>691</td>\n      <td>1137</td>\n      <td>10.5</td>\n      <td>1.970</td>\n      <td>1.870</td>\n      <td>NaN</td>\n      <td>NaN</td>\n      <td>NaN</td>\n      <td>NaN</td>\n      <td>NaN</td>\n      <td>NaN</td>\n    </tr>\n    <tr>\n      <th>3</th>\n      <td>4</td>\n      <td>729</td>\n      <td>01/04/2011</td>\n      <td>787</td>\n      <td>808</td>\n      <td>11.0</td>\n      <td>2.075</td>\n      <td>1.770</td>\n      <td>NaN</td>\n      <td>NaN</td>\n      <td>NaN</td>\n      <td>NaN</td>\n      <td>NaN</td>\n      <td>NaN</td>\n    </tr>\n    <tr>\n      <th>4</th>\n      <td>5</td>\n      <td>741</td>\n      <td>01/04/2011</td>\n      <td>784</td>\n      <td>1117</td>\n      <td>12.0</td>\n      <td>2.020</td>\n      <td>1.860</td>\n      <td>NaN</td>\n      <td>NaN</td>\n      <td>NaN</td>\n      <td>NaN</td>\n      <td>NaN</td>\n      <td>NaN</td>\n    </tr>\n    <tr>\n      <th>...</th>\n      <td>...</td>\n      <td>...</td>\n      <td>...</td>\n      <td>...</td>\n      <td>...</td>\n      <td>...</td>\n      <td>...</td>\n      <td>...</td>\n      <td>...</td>\n      <td>...</td>\n      <td>...</td>\n      <td>...</td>\n      <td>...</td>\n      <td>...</td>\n    </tr>\n    <tr>\n      <th>336</th>\n      <td>337</td>\n      <td>729</td>\n      <td>22/05/2011</td>\n      <td>1211</td>\n      <td>1118</td>\n      <td>10.5</td>\n      <td>1.950</td>\n      <td>1.961</td>\n      <td>NaN</td>\n      <td>NaN</td>\n      <td>NaN</td>\n      <td>NaN</td>\n      <td>NaN</td>\n      <td>NaN</td>\n    </tr>\n    <tr>\n      <th>337</th>\n      <td>338</td>\n      <td>795</td>\n      <td>22/05/2011</td>\n      <td>1116</td>\n      <td>876</td>\n      <td>10.0</td>\n      <td>1.920</td>\n      <td>1.909</td>\n      <td>NaN</td>\n      <td>NaN</td>\n      <td>NaN</td>\n      <td>NaN</td>\n      <td>NaN</td>\n      <td>NaN</td>\n    </tr>\n    <tr>\n      <th>338</th>\n      <td>339</td>\n      <td>801</td>\n      <td>22/05/2011</td>\n      <td>1223</td>\n      <td>771</td>\n      <td>10.0</td>\n      <td>2.020</td>\n      <td>1.840</td>\n      <td>NaN</td>\n      <td>NaN</td>\n      <td>NaN</td>\n      <td>NaN</td>\n      <td>NaN</td>\n      <td>NaN</td>\n    </tr>\n    <tr>\n      <th>339</th>\n      <td>340</td>\n      <td>801</td>\n      <td>22/05/2011</td>\n      <td>238</td>\n      <td>570</td>\n      <td>10.5</td>\n      <td>2.020</td>\n      <td>1.900</td>\n      <td>NaN</td>\n      <td>NaN</td>\n      <td>NaN</td>\n      <td>NaN</td>\n      <td>NaN</td>\n      <td>NaN</td>\n    </tr>\n    <tr>\n      <th>340</th>\n      <td>341</td>\n      <td>776</td>\n      <td>23/05/2011</td>\n      <td>412</td>\n      <td>1089</td>\n      <td>10.5</td>\n      <td>2.220</td>\n      <td>1.729</td>\n      <td>NaN</td>\n      <td>NaN</td>\n      <td>NaN</td>\n      <td>NaN</td>\n      <td>NaN</td>\n      <td>NaN</td>\n    </tr>\n  </tbody>\n</table>\n<p>341 rows × 14 columns</p>\n</div>"
     },
     "execution_count": 7,
     "metadata": {},
     "output_type": "execute_result"
    }
   ],
   "source": [
    "y"
   ],
   "metadata": {
    "collapsed": false,
    "ExecuteTime": {
     "end_time": "2023-12-09T21:35:16.214402Z",
     "start_time": "2023-12-09T21:35:16.182454300Z"
    }
   },
   "id": "802f9e2d86ad112b"
  },
  {
   "cell_type": "code",
   "execution_count": 8,
   "outputs": [
    {
     "data": {
      "text/plain": "Index(['MatchId', 'LeagueId', 'Date', 'HomeTeamId', 'AwayTeamId', 'Home_Goals',\n       'Away_Goals', 'Home_Corners', 'Away_Corners'],\n      dtype='object')"
     },
     "execution_count": 8,
     "metadata": {},
     "output_type": "execute_result"
    }
   ],
   "source": [
    "X.columns"
   ],
   "metadata": {
    "collapsed": false,
    "ExecuteTime": {
     "end_time": "2023-12-09T22:59:48.960585300Z",
     "start_time": "2023-12-09T22:59:48.946692200Z"
    }
   },
   "id": "85d52fa34d2d8436"
  },
  {
   "cell_type": "code",
   "execution_count": 9,
   "outputs": [
    {
     "data": {
      "text/plain": "Index(['MatchId', 'LeagueId', 'Date', 'HomeTeamId', 'AwayTeamId', 'Line',\n       'Over', 'Under', 'Unnamed: 8', 'P(Under)', 'P(At)', 'P(Over)',\n       'Bet (U/O)', 'Stake'],\n      dtype='object')"
     },
     "execution_count": 9,
     "metadata": {},
     "output_type": "execute_result"
    }
   ],
   "source": [
    "y.columns"
   ],
   "metadata": {
    "collapsed": false,
    "ExecuteTime": {
     "end_time": "2023-12-09T23:00:10.849374Z",
     "start_time": "2023-12-09T23:00:10.821996900Z"
    }
   },
   "id": "c9a78e5144b2fee6"
  },
  {
   "cell_type": "code",
   "execution_count": 13,
   "outputs": [
    {
     "data": {
      "text/plain": "01/04/2011    28\n14/05/2011    28\n09/04/2011    25\n21/05/2011    24\n30/04/2011    23\n17/04/2011    20\n22/05/2011    19\n08/05/2011    18\n16/04/2011    18\n07/05/2011    16\n10/04/2011    14\n06/04/2011    13\n15/05/2011    12\n01/05/2011    12\n11/05/2011     9\n07/04/2011     9\n13/05/2011     7\n20/05/2011     7\n08/04/2011     6\n29/04/2011     6\n15/04/2011     5\n06/05/2011     5\n05/04/2011     4\n10/05/2011     2\n12/04/2011     2\n11/04/2011     2\n16/05/2011     2\n02/05/2011     2\n09/05/2011     1\n04/04/2011     1\n23/05/2011     1\nName: Date, dtype: int64"
     },
     "execution_count": 13,
     "metadata": {},
     "output_type": "execute_result"
    }
   ],
   "source": [
    "y.Date.value_counts()"
   ],
   "metadata": {
    "collapsed": false,
    "ExecuteTime": {
     "end_time": "2023-12-09T23:02:25.773190200Z",
     "start_time": "2023-12-09T23:02:25.767327800Z"
    }
   },
   "id": "3d949517ef74bc82"
  }
 ],
 "metadata": {
  "kernelspec": {
   "display_name": "Python 3",
   "language": "python",
   "name": "python3"
  },
  "language_info": {
   "codemirror_mode": {
    "name": "ipython",
    "version": 2
   },
   "file_extension": ".py",
   "mimetype": "text/x-python",
   "name": "python",
   "nbconvert_exporter": "python",
   "pygments_lexer": "ipython2",
   "version": "2.7.6"
  }
 },
 "nbformat": 4,
 "nbformat_minor": 5
}
